{
 "cells": [
  {
   "cell_type": "code",
   "execution_count": 6,
   "metadata": {},
   "outputs": [
    {
     "name": "stdout",
     "output_type": "stream",
     "text": [
      "Processing /Users/dm/Documents/github/uname-n/deltadb\n",
      "  Installing build dependencies ... \u001b[?25ldone\n",
      "\u001b[?25h  Getting requirements to build wheel ... \u001b[?25ldone\n",
      "\u001b[?25h  Preparing metadata (pyproject.toml) ... \u001b[?25ldone\n",
      "\u001b[?25hRequirement already satisfied: deltalake<0.19.0,>=0.18.2 in /Users/dm/Documents/github/uname-n/deltadb/.venv/lib/python3.12/site-packages (from deltadb==0.1.6) (0.18.2)\n",
      "Requirement already satisfied: ipython<9.0.0,>=8.26.0 in /Users/dm/Documents/github/uname-n/deltadb/.venv/lib/python3.12/site-packages (from deltadb==0.1.6) (8.26.0)\n",
      "Requirement already satisfied: polars<2.0.0,>=1.4.1 in /Users/dm/Documents/github/uname-n/deltadb/.venv/lib/python3.12/site-packages (from deltadb==0.1.6) (1.4.1)\n",
      "Requirement already satisfied: pyarrow>=8 in /Users/dm/Documents/github/uname-n/deltadb/.venv/lib/python3.12/site-packages (from deltalake<0.19.0,>=0.18.2->deltadb==0.1.6) (17.0.0)\n",
      "Requirement already satisfied: pyarrow-hotfix in /Users/dm/Documents/github/uname-n/deltadb/.venv/lib/python3.12/site-packages (from deltalake<0.19.0,>=0.18.2->deltadb==0.1.6) (0.6)\n",
      "Requirement already satisfied: decorator in /Users/dm/Documents/github/uname-n/deltadb/.venv/lib/python3.12/site-packages (from ipython<9.0.0,>=8.26.0->deltadb==0.1.6) (5.1.1)\n",
      "Requirement already satisfied: jedi>=0.16 in /Users/dm/Documents/github/uname-n/deltadb/.venv/lib/python3.12/site-packages (from ipython<9.0.0,>=8.26.0->deltadb==0.1.6) (0.19.1)\n",
      "Requirement already satisfied: matplotlib-inline in /Users/dm/Documents/github/uname-n/deltadb/.venv/lib/python3.12/site-packages (from ipython<9.0.0,>=8.26.0->deltadb==0.1.6) (0.1.7)\n",
      "Requirement already satisfied: prompt-toolkit<3.1.0,>=3.0.41 in /Users/dm/Documents/github/uname-n/deltadb/.venv/lib/python3.12/site-packages (from ipython<9.0.0,>=8.26.0->deltadb==0.1.6) (3.0.47)\n",
      "Requirement already satisfied: pygments>=2.4.0 in /Users/dm/Documents/github/uname-n/deltadb/.venv/lib/python3.12/site-packages (from ipython<9.0.0,>=8.26.0->deltadb==0.1.6) (2.18.0)\n",
      "Requirement already satisfied: stack-data in /Users/dm/Documents/github/uname-n/deltadb/.venv/lib/python3.12/site-packages (from ipython<9.0.0,>=8.26.0->deltadb==0.1.6) (0.6.3)\n",
      "Requirement already satisfied: traitlets>=5.13.0 in /Users/dm/Documents/github/uname-n/deltadb/.venv/lib/python3.12/site-packages (from ipython<9.0.0,>=8.26.0->deltadb==0.1.6) (5.14.3)\n",
      "Requirement already satisfied: pexpect>4.3 in /Users/dm/Documents/github/uname-n/deltadb/.venv/lib/python3.12/site-packages (from ipython<9.0.0,>=8.26.0->deltadb==0.1.6) (4.9.0)\n",
      "Requirement already satisfied: parso<0.9.0,>=0.8.3 in /Users/dm/Documents/github/uname-n/deltadb/.venv/lib/python3.12/site-packages (from jedi>=0.16->ipython<9.0.0,>=8.26.0->deltadb==0.1.6) (0.8.4)\n",
      "Requirement already satisfied: ptyprocess>=0.5 in /Users/dm/Documents/github/uname-n/deltadb/.venv/lib/python3.12/site-packages (from pexpect>4.3->ipython<9.0.0,>=8.26.0->deltadb==0.1.6) (0.7.0)\n",
      "Requirement already satisfied: wcwidth in /Users/dm/Documents/github/uname-n/deltadb/.venv/lib/python3.12/site-packages (from prompt-toolkit<3.1.0,>=3.0.41->ipython<9.0.0,>=8.26.0->deltadb==0.1.6) (0.2.13)\n",
      "Requirement already satisfied: numpy>=1.16.6 in /Users/dm/Documents/github/uname-n/deltadb/.venv/lib/python3.12/site-packages (from pyarrow>=8->deltalake<0.19.0,>=0.18.2->deltadb==0.1.6) (2.0.1)\n",
      "Requirement already satisfied: executing>=1.2.0 in /Users/dm/Documents/github/uname-n/deltadb/.venv/lib/python3.12/site-packages (from stack-data->ipython<9.0.0,>=8.26.0->deltadb==0.1.6) (2.0.1)\n",
      "Requirement already satisfied: asttokens>=2.1.0 in /Users/dm/Documents/github/uname-n/deltadb/.venv/lib/python3.12/site-packages (from stack-data->ipython<9.0.0,>=8.26.0->deltadb==0.1.6) (2.4.1)\n",
      "Requirement already satisfied: pure-eval in /Users/dm/Documents/github/uname-n/deltadb/.venv/lib/python3.12/site-packages (from stack-data->ipython<9.0.0,>=8.26.0->deltadb==0.1.6) (0.2.3)\n",
      "Requirement already satisfied: six>=1.12.0 in /Users/dm/Documents/github/uname-n/deltadb/.venv/lib/python3.12/site-packages (from asttokens>=2.1.0->stack-data->ipython<9.0.0,>=8.26.0->deltadb==0.1.6) (1.16.0)\n",
      "Building wheels for collected packages: deltadb\n",
      "  Building wheel for deltadb (pyproject.toml) ... \u001b[?25ldone\n",
      "\u001b[?25h  Created wheel for deltadb: filename=deltadb-0.1.6-py3-none-any.whl size=19290 sha256=27f25ece8e9d0a15733652a6b16038a2e8d4f100f07206f79bfbff7d27c9e94c\n",
      "  Stored in directory: /private/var/folders/wh/xwjjm0v921q6m1607q_yy3680000gn/T/pip-ephem-wheel-cache-_51utma6/wheels/d0/d2/f6/73b0d9ce15a7bbd855fb794395903d48d547228133c0ba43c1\n",
      "Successfully built deltadb\n",
      "Installing collected packages: deltadb\n",
      "  Attempting uninstall: deltadb\n",
      "    Found existing installation: deltadb 0.1.6\n",
      "    Uninstalling deltadb-0.1.6:\n",
      "      Successfully uninstalled deltadb-0.1.6\n",
      "Successfully installed deltadb-0.1.6\n",
      "\n",
      "\u001b[1m[\u001b[0m\u001b[34;49mnotice\u001b[0m\u001b[1;39;49m]\u001b[0m\u001b[39;49m A new release of pip is available: \u001b[0m\u001b[31;49m24.0\u001b[0m\u001b[39;49m -> \u001b[0m\u001b[32;49m24.2\u001b[0m\n",
      "\u001b[1m[\u001b[0m\u001b[34;49mnotice\u001b[0m\u001b[1;39;49m]\u001b[0m\u001b[39;49m To update, run: \u001b[0m\u001b[32;49mpip install --upgrade pip\u001b[0m\n",
      "Note: you may need to restart the kernel to use updated packages.\n"
     ]
    }
   ],
   "source": [
    "%pip install ..\n",
    "%load_ext deltadb"
   ]
  },
  {
   "cell_type": "code",
   "execution_count": 7,
   "metadata": {},
   "outputs": [
    {
     "data": {
      "text/plain": [
       "True"
      ]
     },
     "execution_count": 7,
     "metadata": {},
     "output_type": "execute_result"
    }
   ],
   "source": [
    "from deltadb import delta\n",
    "\n",
    "db = delta.connect(\"test.delta\")\n",
    "db.upsert(table=\"test_table\", primary_key=\"id\", data=[dict(id=1, name=\"alice\", job=\"teacher\")])\n",
    "db.upsert(table=\"test_table\", primary_key=\"id\", data=[dict(id=2, name=\"charles\", job=\"chef\")])\n",
    "db.upsert(table=\"test_table\", primary_key=\"id\", data=[dict(id=3, name=\"sam\", job=\"it\")])\n",
    "db.commit(\"test_table\")"
   ]
  },
  {
   "cell_type": "code",
   "execution_count": 8,
   "metadata": {},
   "outputs": [],
   "source": [
    "%connect test.delta"
   ]
  },
  {
   "cell_type": "code",
   "execution_count": 9,
   "metadata": {},
   "outputs": [
    {
     "data": {
      "text/plain": [
       "['test_table']"
      ]
     },
     "execution_count": 9,
     "metadata": {},
     "output_type": "execute_result"
    }
   ],
   "source": [
    "%tables"
   ]
  },
  {
   "cell_type": "code",
   "execution_count": 10,
   "metadata": {
    "vscode": {
     "languageId": "sql"
    }
   },
   "outputs": [
    {
     "data": {
      "text/html": [
       "<div><style>\n",
       ".dataframe > thead > tr,\n",
       ".dataframe > tbody > tr {\n",
       "  text-align: right;\n",
       "  white-space: pre-wrap;\n",
       "}\n",
       "</style>\n",
       "<small>shape: (3, 2)</small><table border=\"1\" class=\"dataframe\"><thead><tr><th>id</th><th>job</th></tr><tr><td>i64</td><td>str</td></tr></thead><tbody><tr><td>2</td><td>&quot;chef&quot;</td></tr><tr><td>1</td><td>&quot;teacher&quot;</td></tr><tr><td>3</td><td>&quot;it&quot;</td></tr></tbody></table></div>"
      ],
      "text/plain": [
       "shape: (3, 2)\n",
       "┌─────┬─────────┐\n",
       "│ id  ┆ job     │\n",
       "│ --- ┆ ---     │\n",
       "│ i64 ┆ str     │\n",
       "╞═════╪═════════╡\n",
       "│ 2   ┆ chef    │\n",
       "│ 1   ┆ teacher │\n",
       "│ 3   ┆ it      │\n",
       "└─────┴─────────┘"
      ]
     },
     "execution_count": 10,
     "metadata": {},
     "output_type": "execute_result"
    }
   ],
   "source": [
    "%%sql\n",
    "select\n",
    "    id, job\n",
    "from test_table"
   ]
  },
  {
   "cell_type": "code",
   "execution_count": null,
   "metadata": {
    "vscode": {
     "languageId": "sql"
    }
   },
   "outputs": [],
   "source": []
  }
 ],
 "metadata": {
  "kernelspec": {
   "display_name": ".venv",
   "language": "python",
   "name": "python3"
  },
  "language_info": {
   "codemirror_mode": {
    "name": "ipython",
    "version": 3
   },
   "file_extension": ".py",
   "mimetype": "text/x-python",
   "name": "python",
   "nbconvert_exporter": "python",
   "pygments_lexer": "ipython3",
   "version": "3.12.2"
  }
 },
 "nbformat": 4,
 "nbformat_minor": 2
}
